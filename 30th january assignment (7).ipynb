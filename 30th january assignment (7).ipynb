{
 "cells": [
  {
   "cell_type": "code",
   "execution_count": 5,
   "id": "4cab1a08-01dc-4e60-b4fa-7d7db4f42d15",
   "metadata": {},
   "outputs": [
    {
     "name": "stdin",
     "output_type": "stream",
     "text": [
      "enter the marks 45\n"
     ]
    },
    {
     "name": "stdout",
     "output_type": "stream",
     "text": [
      "the grade is D\n"
     ]
    }
   ],
   "source": [
    "/#solution to the question number1\n",
    "marks=int(input('enter the marks'))\n",
    "if marks >90:\n",
    "\tprint('the grade is A')\n",
    "elif marks >80 and marks<=90:\n",
    "    print('the grade is B')\n",
    "elif marks >=60 and marks <=80:\n",
    "    print('the grade is C')\n",
    "else :\n",
    "    print('the grade is D')\n",
    "          \n",
    "          \n",
    "    "
   ]
  },
  {
   "cell_type": "code",
   "execution_count": 14,
   "id": "68abe362-152d-42ed-8036-1e6a00311486",
   "metadata": {},
   "outputs": [
    {
     "name": "stdin",
     "output_type": "stream",
     "text": [
      "enter the price of the bike 70000\n"
     ]
    },
    {
     "name": "stdout",
     "output_type": "stream",
     "text": [
      "the tax is  7000.0\n"
     ]
    }
   ],
   "source": [
    "#solution to the question number 2\n",
    "price=int(input('enter the price of the bike'))\n",
    "if price >100000:\n",
    "\ttax=price*15/100\n",
    "\tprint('the tax is ',tax)\n",
    "elif price >50000 and price <=100000:\n",
    "\ttax=price *10/100\n",
    "\tprint('the tax is ',tax)\n",
    "else:\n",
    "\ttax =price*5/100\n",
    "\tprint( 'the tax is',tax)\t\n",
    "\t"
   ]
  },
  {
   "cell_type": "code",
   "execution_count": 18,
   "id": "b1ad9fae-76e7-4d9b-b649-667c712b2888",
   "metadata": {},
   "outputs": [
    {
     "name": "stdin",
     "output_type": "stream",
     "text": [
      "enter 1 for delhi ,2 for agra, 3 for jaipur 2\n"
     ]
    },
    {
     "name": "stdout",
     "output_type": "stream",
     "text": [
      "the monument in agra is TAJ MAHAL\n"
     ]
    }
   ],
   "source": [
    "#solutin to the question number 3\n",
    "city= int(input('enter 1 for delhi ,2 for agra, 3 for jaipur'))\n",
    "          \n",
    "\n",
    "if city== 1:\n",
    "\tprint('the monument in delhi is RED FORT')\n",
    "elif city==2:\n",
    "\tprint('the monument in agra is TAJ MAHAL')\n",
    "else:\n",
    "\tprint('the monument in jaipur is JAl MAHAL')               \n",
    "               "
   ]
  },
  {
   "cell_type": "code",
   "execution_count": 5,
   "id": "539dd7d4-f4cb-4257-ae82-16efaba8e0ce",
   "metadata": {},
   "outputs": [
    {
     "name": "stdin",
     "output_type": "stream",
     "text": [
      "please input the number to find the number of times divided beforeit is less than equal to ten 56\n"
     ]
    },
    {
     "name": "stdout",
     "output_type": "stream",
     "text": [
      "the number can be divided 2number of times\n"
     ]
    }
   ],
   "source": [
    "#solution to the question number 4\n",
    "number=int(input('please input the number to find the number of times divided beforeit is less than equal to ten'))\n",
    "if number>29:\n",
    "    i=0\n",
    "    while number>10:\n",
    "        number= number/3\n",
    "        i=i+1\n",
    "    print('the number can be divided '+str(i) +'number of times')  \n",
    "else:\n",
    "\tprint('the number can be divided zero number of times')  "
   ]
  },
  {
   "cell_type": "code",
   "execution_count": null,
   "id": "7b2532ce-5c9d-47bd-8a97-89d4aac3f815",
   "metadata": {},
   "outputs": [],
   "source": [
    "#soluton to the question mumber 5\n",
    "while loop is generally used if we have single condition that is we do not know the \n",
    "number of times the loop will execute\n",
    "if number>29:\n",
    "    i=0\n",
    "    while number>10:\n",
    "        number= number/3\n",
    "        i=i+1\n",
    "    print('the number can be divided '+str(i) +'number of times')  \n",
    "    \n",
    "    \n",
    "in the above example we do not know the number of times the loop will execute\n",
    ".The user may take a large or small value depending on wich the no of times the loop \n",
    "will execute.\n",
    "\n",
    "In case of the for loop for exmple\n",
    " for x in list_name \n",
    "    the loop will exexute for the total length of the list"
   ]
  },
  {
   "cell_type": "code",
   "execution_count": 83,
   "id": "2a3323b3-50ee-4129-8236-351f4a872412",
   "metadata": {},
   "outputs": [
    {
     "name": "stdout",
     "output_type": "stream",
     "text": [
      "*\n",
      "**\n",
      "***\n",
      "****\n",
      "*****\n",
      "******\n",
      "*******\n",
      "********\n",
      "*********\n",
      "**********\n"
     ]
    }
   ],
   "source": [
    "#solution to the question number 6 first pattern\n",
    "#nested loop ascending tree\n",
    "num=0\n",
    "\n",
    "while num<10:\n",
    "\twhile num<10:\n",
    "\t\tnum=num+1\n",
    "\t\tprint('*'*num) \n",
    "\tnum=num+1\n",
    "\t   "
   ]
  },
  {
   "cell_type": "code",
   "execution_count": 2,
   "id": "6a30877d-50e1-4c23-a4b6-2f87458380e3",
   "metadata": {},
   "outputs": [
    {
     "name": "stdout",
     "output_type": "stream",
     "text": [
      "*********\n",
      "********\n",
      "*******\n",
      "******\n",
      "*****\n",
      "****\n",
      "***\n",
      "**\n",
      "*\n",
      "\n"
     ]
    }
   ],
   "source": [
    "#soluntion to the question number second pattern\n",
    "num=10\n",
    "\n",
    "while num>0:\n",
    "\twhile num>0:\n",
    "\t\tnum=num-1\n",
    "\t\tprint('*'*num) \n",
    "\tnum=num-1"
   ]
  },
  {
   "cell_type": "code",
   "execution_count": 1,
   "id": "46e12468-944e-4a4c-836c-cb30ddd2a0c4",
   "metadata": {},
   "outputs": [
    {
     "name": "stdout",
     "output_type": "stream",
     "text": [
      "hare rama\n",
      "hare ramahare rama\n",
      "hare ramahare ramahare rama\n",
      "hare ramahare ramahare ramahare rama\n",
      "hare ramahare ramahare ramahare ramahare rama\n",
      "hare ramahare ramahare ramahare ramahare ramahare rama\n",
      "hare ramahare ramahare ramahare ramahare ramahare ramahare rama\n",
      "hare ramahare ramahare ramahare ramahare ramahare ramahare ramahare rama\n",
      "hare ramahare ramahare ramahare ramahare ramahare ramahare ramahare ramahare rama\n",
      "hare ramahare ramahare ramahare ramahare ramahare ramahare ramahare ramahare ramahare rama\n"
     ]
    }
   ],
   "source": [
    "#solution to the question number6 third pattern\n",
    "num=0\n",
    "\n",
    "while num<10:\n",
    "\twhile num<10:\n",
    "\t\tnum=num+1\n",
    "\t\tprint('hare rama'*num) \n",
    "\tnum=num+1\n",
    "\t   "
   ]
  },
  {
   "cell_type": "code",
   "execution_count": 4,
   "id": "81edae40-f151-4e54-88d7-49820f517733",
   "metadata": {},
   "outputs": [],
   "source": [
    "#solution to the question number 7 and 8\n",
    "num=10\n",
    "while num>=1:\n",
    "    print(num)\n",
    "    num=num-1\n"
   ]
  },
  {
   "cell_type": "code",
   "execution_count": null,
   "id": "ad9abe28-120a-467b-aaa0-b2ea733a8ae7",
   "metadata": {},
   "outputs": [],
   "source": []
  },
  {
   "cell_type": "code",
   "execution_count": null,
   "id": "e8ab74c7-c7fe-4fae-adad-a62ba5a4f16e",
   "metadata": {},
   "outputs": [],
   "source": []
  }
 ],
 "metadata": {
  "kernelspec": {
   "display_name": "Python 3 (ipykernel)",
   "language": "python",
   "name": "python3"
  },
  "language_info": {
   "codemirror_mode": {
    "name": "ipython",
    "version": 3
   },
   "file_extension": ".py",
   "mimetype": "text/x-python",
   "name": "python",
   "nbconvert_exporter": "python",
   "pygments_lexer": "ipython3",
   "version": "3.10.8"
  }
 },
 "nbformat": 4,
 "nbformat_minor": 5
}
